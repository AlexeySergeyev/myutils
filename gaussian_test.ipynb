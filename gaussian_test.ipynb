{
 "cells": [
  {
   "cell_type": "code",
   "execution_count": 1,
   "metadata": {},
   "outputs": [],
   "source": [
    "import numpy as np\n",
    "import matplotlib.pyplot as plt\n",
    "from scipy import special"
   ]
  },
  {
   "cell_type": "code",
   "execution_count": 2,
   "metadata": {},
   "outputs": [],
   "source": [
    "mu = 0.0\n",
    "sigma = 2.0"
   ]
  },
  {
   "cell_type": "code",
   "execution_count": 3,
   "metadata": {},
   "outputs": [],
   "source": [
    "def gauss(x, mean=0.0, sigma=1.0):\n",
    "    return np.exp(-(x - mean)**2 / (2*sigma**2))"
   ]
  },
  {
   "cell_type": "markdown",
   "metadata": {},
   "source": [
    "$\\Large\n",
    "f(x) = e^\\left(-\\frac{\\left(x-\\mu\\right)^2}{2\\sigma^2}\\right)$"
   ]
  },
  {
   "cell_type": "code",
   "execution_count": 4,
   "metadata": {},
   "outputs": [],
   "source": [
    "x = np.linspace(-4, 4, 100)\n",
    "y1 = gauss(x, mu, sigma)"
   ]
  },
  {
   "cell_type": "code",
   "execution_count": 5,
   "metadata": {},
   "outputs": [],
   "source": [
    "a, b = 0, 3"
   ]
  },
  {
   "cell_type": "code",
   "execution_count": 6,
   "metadata": {},
   "outputs": [
    {
     "data": {
      "image/png": "[encoded data removed]",
      "text/plain": [
       "<Figure size 432x288 with 1 Axes>"
      ]
     },
     "metadata": {
      "needs_background": "light"
     },
     "output_type": "display_data"
    }
   ],
   "source": [
    "plt.plot(x, y1)\n",
    "cond = (x >= a) & (x < b)\n",
    "plt.fill_between(x[cond], 0, y1[cond], color='orange')\n",
    "plt.grid(True)"
   ]
  },
  {
   "cell_type": "markdown",
   "metadata": {},
   "source": [
    "Integral of 1d Gaussian:\n",
    "\n",
    "$\\Large\n",
    "\\int{f(x)\\mathrm{d}x}= \\sqrt{\\frac{\\pi}{2}}\\sigma \\cdot erf\\left(\\frac{x}{\\sqrt{2}\\sigma}\\right)$\n",
    "\n",
    "Where $erf$ is Error function (or Gauss error function):\n",
    "\n",
    "$\\Large erf = \\frac{2}{\\sqrt{\\pi}}\\int{e^{-x^2}}$\n",
    "\n",
    "Integral of 1d Gaussian shifted in range from a to b:\n",
    "\n",
    "$\\Large \n",
    "\\int_{a_x}^{b_x}{f(x)\\mathrm{d}x}= \\sqrt{\\frac{\\pi}{2}}\\sigma \\cdot \\left(erf\\left[\\frac{b}{\\sqrt{2}\\sigma}\\right] - erf\\left[\\frac{a}{\\sqrt{2}\\sigma}\\right]\\right)$\n"
   ]
  },
  {
   "cell_type": "code",
   "execution_count": 7,
   "metadata": {},
   "outputs": [
    {
     "name": "stdout",
     "output_type": "stream",
     "text": [
      "0.000000, 0.866386, integral: 2.171707\n"
     ]
    }
   ],
   "source": [
    "i1 = special.erf(a / (np.sqrt(2) * sigma))\n",
    "i2 = special.erf(b / (np.sqrt(2) * sigma))\n",
    "cdf = i2-i1\n",
    "print(f'{i1:.6f}, {i2:.6f}, integral: {cdf*sigma*np.sqrt(np.pi/2):.6f}')"
   ]
  },
  {
   "cell_type": "markdown",
   "metadata": {},
   "source": [
    "Integral of 1d Gaussian shifted on $\\mu$:\n",
    "\n",
    "$\\Large \\int_{a_x}^{b_x}{f(x)\\mathrm{d}x}= \\sqrt{\\frac{\\pi}{2}}\\sigma \\cdot \\left(erf\\left[\\frac{b-\\mu}{\\sqrt{2}\\sigma}\\right] - erf\\left[\\frac{a-\\mu}{\\sqrt{2}\\sigma}\\right]\\right)$"
   ]
  },
  {
   "cell_type": "code",
   "execution_count": 8,
   "metadata": {},
   "outputs": [
    {
     "name": "stdout",
     "output_type": "stream",
     "text": [
      "-0.382925, 0.682689, integral: 2.671099\n"
     ]
    },
    {
     "data": {
      "image/png": "[encoded data removed]",
      "text/plain": [
       "<Figure size 432x288 with 1 Axes>"
      ]
     },
     "metadata": {
      "needs_background": "light"
     },
     "output_type": "display_data"
    }
   ],
   "source": [
    "mu = 1\n",
    "y2 = gauss(x, mu, sigma)\n",
    "plt.plot(x, y2)\n",
    "cond = (x >= a) & (x < b)\n",
    "plt.fill_between(x[cond], 0, y2[cond], color='orange')\n",
    "plt.grid(True)\n",
    "\n",
    "i1 = special.erf((a - mu) / (np.sqrt(2) * sigma))\n",
    "i2 = special.erf((b - mu) / (np.sqrt(2) * sigma))\n",
    "cdf = i2-i1\n",
    "print(f'{i1:.6f}, {i2:.6f}, integral: {cdf*sigma*np.sqrt(np.pi/2):.6f}')"
   ]
  },
  {
   "cell_type": "markdown",
   "metadata": {},
   "source": [
    "3D Gaussian centred on $\\mu_x, \\mu_y, \\mu_z$ and has the width $\\sigma_x, \\sigma_y, \\sigma_z$:\n",
    "    \n",
    "$\\Large f(x, y, z) = e^\\left(-\\frac{\\left(x-\\mu_x\\right)^2}{2\\sigma_x^2} -\\frac{\\left(y-\\mu_y\\right)^2}{2\\sigma_y^2} -\\frac{\\left(z-\\mu_z\\right)^2}{2\\sigma_z^2} \\right)$"
   ]
  },
  {
   "cell_type": "markdown",
   "metadata": {},
   "source": [
    "Intagral of the 3D Gaussian function limitted by $a_x..b_x, a_y..b_y, a_z..b_z$ borders could be computed as:\n",
    "\n",
    "$\\Large\n",
    "\\int_{a_x}^{b_x}\\int_{a_y}^{b_y} \\int_{a_z}^{b_z} f(x,y,z)\\;\\mathrm{d}x\\mathrm{d}y\\mathrm{d}z = \\\\\n",
    "\\Large\n",
    "\\frac{\\pi^{3/2}}{2 \\sqrt{2}} \\sigma_x \\sigma_y \\sigma_z \\cdot \\\\\n",
    "\\Large\n",
    "\\left(erf\\left[\\frac{b_x-\\mu_x}{\\sqrt{2}\\sigma_x}\\right] - erf\\left[\\frac{a_x-\\mu_x}{\\sqrt{2}\\sigma_x}\\right] \\right) \\cdot \n",
    "\\left(erf\\left[\\frac{b_y-\\mu_y}{\\sqrt{2}\\sigma_y}\\right] - erf\\left[\\frac{a_y-\\mu_y}{\\sqrt{2}\\sigma_y}\\right] \\right) \\cdot\n",
    "\\left(erf\\left[\\frac{b_z-\\mu_z}{\\sqrt{2}\\sigma_z}\\right] - erf\\left[\\frac{a_z-\\mu_z}{\\sqrt{2}\\sigma_z}\\right] \\right)$"
   ]
  }
 ],
 "metadata": {
  "kernelspec": {
   "display_name": "Python 3",
   "language": "python",
   "name": "python3"
  },
  "language_info": {
   "codemirror_mode": {
    "name": "ipython",
    "version": 3
   },
   "file_extension": ".py",
   "mimetype": "text/x-python",
   "name": "python",
   "nbconvert_exporter": "python",
   "pygments_lexer": "ipython3",
   "version": "3.6.9"
  }
 },
 "nbformat": 4,
 "nbformat_minor": 4
}
