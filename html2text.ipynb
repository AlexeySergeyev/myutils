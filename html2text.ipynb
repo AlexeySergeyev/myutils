import html2text
from BeautifulSoup import BeautifulSoup

soup = BeautifulSoup(open(".\data\example.html"), "html.parser")

txt = soup.find('div', {'class' : 'body'})

print html2text.html2text(txt)
